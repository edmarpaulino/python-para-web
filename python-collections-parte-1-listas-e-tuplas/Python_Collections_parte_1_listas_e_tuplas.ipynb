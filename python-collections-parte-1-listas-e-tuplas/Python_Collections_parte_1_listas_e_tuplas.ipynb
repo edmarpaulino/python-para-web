{
  "cells": [
    {
      "cell_type": "code",
      "execution_count": 77,
      "metadata": {
        "colab": {
          "base_uri": "https://localhost:8080/"
        },
        "id": "Q7rDxMKYH5jW",
        "outputId": "af5010f1-8c83-4161-8f8f-d664edf450f2"
      },
      "outputs": [
        {
          "name": "stdout",
          "output_type": "stream",
          "text": [
            "39\n",
            "30\n",
            "27\n",
            "18\n"
          ]
        }
      ],
      "source": [
        "idade1 = 39\n",
        "idade2 = 30\n",
        "idade3 = 27\n",
        "idade4 = 18\n",
        "\n",
        "print(idade1)\n",
        "print(idade2)\n",
        "print(idade3)\n",
        "print(idade4)"
      ]
    },
    {
      "cell_type": "code",
      "execution_count": 78,
      "metadata": {
        "colab": {
          "base_uri": "https://localhost:8080/"
        },
        "id": "CqBi6VPQKaHP",
        "outputId": "c096088e-228a-4a15-90f4-de2162516067"
      },
      "outputs": [
        {
          "name": "stdout",
          "output_type": "stream",
          "text": [
            "<class 'list'>\n",
            "4\n",
            "39\n",
            "[39, 30, 27, 18]\n",
            "30\n",
            "27\n",
            "18\n"
          ]
        }
      ],
      "source": [
        "idades = [39, 30, 27, 18]\n",
        "print(type(idades))\n",
        "\n",
        "print(len(idades))\n",
        "print(idades[0])\n",
        "print(idades)\n",
        "print(idades[1])\n",
        "print(idades[2])\n",
        "print(idades[3])"
      ]
    },
    {
      "cell_type": "code",
      "execution_count": 79,
      "metadata": {
        "colab": {
          "base_uri": "https://localhost:8080/"
        },
        "id": "aDKUd7cCLhny",
        "outputId": "41b3e1a9-700b-4a5f-af02-e43458d34a2e"
      },
      "outputs": [
        {
          "name": "stdout",
          "output_type": "stream",
          "text": [
            "[39, 30, 27, 18, 15]\n",
            "15\n"
          ]
        }
      ],
      "source": [
        "idades.append(15)\n",
        "print(idades)\n",
        "print(idades[4])"
      ]
    },
    {
      "cell_type": "code",
      "execution_count": 80,
      "metadata": {
        "colab": {
          "base_uri": "https://localhost:8080/"
        },
        "id": "osqz0RhILop_",
        "outputId": "4696519f-91ec-4a9a-d7c9-e2429aac5e1d"
      },
      "outputs": [
        {
          "name": "stdout",
          "output_type": "stream",
          "text": [
            "39\n",
            "30\n",
            "27\n",
            "18\n",
            "15\n"
          ]
        }
      ],
      "source": [
        "for idade in idades:\n",
        "    print(idade)"
      ]
    },
    {
      "cell_type": "code",
      "execution_count": 81,
      "metadata": {
        "id": "nzg6sY_-Ls0g"
      },
      "outputs": [
        {
          "name": "stdout",
          "output_type": "stream",
          "text": [
            "[39, 30, 18, 15, 27]\n"
          ]
        }
      ],
      "source": [
        "idades.append(27)\n",
        "idades.remove(27)\n",
        "print(idades)"
      ]
    },
    {
      "cell_type": "code",
      "execution_count": 82,
      "metadata": {
        "id": "tcwLDtkqLt8T"
      },
      "outputs": [
        {
          "name": "stdout",
          "output_type": "stream",
          "text": [
            "[20, 39, 30, 18, 15, 27]\n"
          ]
        }
      ],
      "source": [
        "idades.insert(0, 20)\n",
        "print(idades)"
      ]
    },
    {
      "cell_type": "code",
      "execution_count": 83,
      "metadata": {
        "id": "Y4Mj2z6_Lxaz"
      },
      "outputs": [
        {
          "name": "stdout",
          "output_type": "stream",
          "text": [
            "[20, 39, 30, 18, 15, 27, 38, 40]\n",
            "21\n",
            "40\n",
            "31\n",
            "19\n",
            "16\n",
            "28\n",
            "39\n",
            "41\n"
          ]
        }
      ],
      "source": [
        "idades.extend([38, 40])\n",
        "print(idades)\n",
        "for idade in idades:\n",
        "    print(idade + 1)"
      ]
    },
    {
      "cell_type": "code",
      "execution_count": 84,
      "metadata": {
        "id": "rBqCD0ndLzOS"
      },
      "outputs": [
        {
          "name": "stdout",
          "output_type": "stream",
          "text": [
            "[21, 40, 31, 19, 16, 28, 39, 41]\n"
          ]
        }
      ],
      "source": [
        "idades_no_ano_que_vem = []\n",
        "for idade in idades:\n",
        "    idades_no_ano_que_vem.append(idade + 1)\n",
        "print(idades_no_ano_que_vem)"
      ]
    },
    {
      "cell_type": "code",
      "execution_count": 85,
      "metadata": {
        "colab": {
          "base_uri": "https://localhost:8080/"
        },
        "id": "6FLdJNMTL3tD",
        "outputId": "a8328817-9421-486a-8ccc-fa7282c75d9a"
      },
      "outputs": [
        {
          "name": "stdout",
          "output_type": "stream",
          "text": [
            "[21, 40, 31, 19, 16, 28, 39, 41]\n"
          ]
        }
      ],
      "source": [
        "# List comprehentions\n",
        "idades_no_ano_que_vem = [(idade + 1) for idade in idades]\n",
        "print(idades_no_ano_que_vem)"
      ]
    },
    {
      "cell_type": "code",
      "execution_count": 86,
      "metadata": {
        "colab": {
          "base_uri": "https://localhost:8080/"
        },
        "id": "5WUtKohIL6IZ",
        "outputId": "25d8db57-17e7-4ff6-9f66-e0650e20d42d"
      },
      "outputs": [
        {
          "name": "stdout",
          "output_type": "stream",
          "text": [
            "[40, 31, 28, 39, 41]\n"
          ]
        }
      ],
      "source": [
        "idades_no_ano_que_vem = [idade + 1 for idade in idades if idade > 21]\n",
        "print(idades_no_ano_que_vem)"
      ]
    },
    {
      "cell_type": "code",
      "execution_count": 87,
      "metadata": {
        "colab": {
          "base_uri": "https://localhost:8080/"
        },
        "id": "S5v9f-6iMAR6",
        "outputId": "ba8ccd75-221e-47aa-ffd3-b653af3527ff"
      },
      "outputs": [
        {
          "name": "stdout",
          "output_type": "stream",
          "text": [
            "[40, 31, 28, 39, 41]\n"
          ]
        }
      ],
      "source": [
        "def proximo_ano(idade):\n",
        "    return idade + 1\n",
        "\n",
        "idades_no_ano_que_vem = [proximo_ano(idade) for idade in idades if idade > 21]\n",
        "print(idades_no_ano_que_vem)"
      ]
    },
    {
      "cell_type": "code",
      "execution_count": 88,
      "metadata": {
        "id": "1qsYUBp1MEAS"
      },
      "outputs": [],
      "source": [
        "# instancia o valor padrão do parâmtro que vai existir durante a vida do programa e vai armazanar as alterações\n",
        "def faz_processamneto_de_visaulização(lista = []):\n",
        "    print(len(lista))\n",
        "    lista.append(13)"
      ]
    },
    {
      "cell_type": "code",
      "execution_count": 89,
      "metadata": {
        "id": "MG03_MODMI2D"
      },
      "outputs": [],
      "source": [
        "def faz_processamento_de_visualização(lista = None):\n",
        "    if lista == None:\n",
        "        lista = list()\n",
        "    print(len(lista))\n",
        "    print(lista)\n",
        "    lista.append(13)"
      ]
    },
    {
      "cell_type": "code",
      "execution_count": 90,
      "metadata": {
        "colab": {
          "base_uri": "https://localhost:8080/"
        },
        "id": "UfdneUhRMMRb",
        "outputId": "270601d0-5ff5-452e-a1b3-eae431402fcd"
      },
      "outputs": [
        {
          "name": "stdout",
          "output_type": "stream",
          "text": [
            "8\n",
            "[20, 39, 30, 18, 15, 27, 38, 40]\n",
            "[20, 39, 30, 18, 15, 27, 38, 40, 13]\n",
            "0\n",
            "[]\n",
            "0\n",
            "[]\n",
            "0\n",
            "[]\n",
            "0\n",
            "[]\n",
            "0\n",
            "[]\n",
            "0\n",
            "[]\n",
            "0\n",
            "[]\n",
            "0\n",
            "[]\n",
            "0\n",
            "[]\n",
            "0\n",
            "[]\n",
            "9\n",
            "[20, 39, 30, 18, 15, 27, 38, 40, 13]\n",
            "0\n",
            "[]\n"
          ]
        }
      ],
      "source": [
        "faz_processamento_de_visualização(idades)\n",
        "print(idades)\n",
        "\n",
        "for i in range(0, 10):\n",
        "    faz_processamento_de_visualização()\n",
        "faz_processamento_de_visualização(idades)\n",
        "faz_processamento_de_visualização()"
      ]
    },
    {
      "cell_type": "markdown",
      "metadata": {
        "id": "RIfKIIlZMS4B"
      },
      "source": [
        "# Obejtos próprios"
      ]
    },
    {
      "cell_type": "code",
      "execution_count": 91,
      "metadata": {
        "id": "4Q9NUQSRMbUy"
      },
      "outputs": [],
      "source": [
        "class ContaCorrente:\n",
        "    def __init__(self, codigo):\n",
        "        self.codigo = codigo\n",
        "        self.saldo = 0\n",
        "\n",
        "    def deposita(self, valor):\n",
        "        self.saldo += valor\n",
        "\n",
        "    def __str__(self):\n",
        "        return f\"[>>Código {self.codigo} Saldo {self.saldo}<<]\""
      ]
    },
    {
      "cell_type": "code",
      "execution_count": 92,
      "metadata": {
        "colab": {
          "base_uri": "https://localhost:8080/"
        },
        "id": "RkSVueGHMgdb",
        "outputId": "829a1952-522a-4fd6-a927-64316a0b6d57"
      },
      "outputs": [
        {
          "name": "stdout",
          "output_type": "stream",
          "text": [
            "[>>Código 15 Saldo 0<<]\n",
            "[>>Código 15 Saldo 500<<]\n"
          ]
        }
      ],
      "source": [
        "conta_do_gui = ContaCorrente(15)\n",
        "print(conta_do_gui)\n",
        "conta_do_gui.deposita(500)\n",
        "print(conta_do_gui)"
      ]
    },
    {
      "cell_type": "code",
      "execution_count": 93,
      "metadata": {
        "colab": {
          "base_uri": "https://localhost:8080/"
        },
        "id": "4PyHWX24MiFz",
        "outputId": "b9a24322-3d8f-4511-e1b6-d2f65ae588e5"
      },
      "outputs": [
        {
          "name": "stdout",
          "output_type": "stream",
          "text": [
            "[>>Código 47685 Saldo 1000<<]\n"
          ]
        }
      ],
      "source": [
        "conta_da_dani = ContaCorrente(47685)\n",
        "conta_da_dani.deposita(1000)\n",
        "print(conta_da_dani)"
      ]
    },
    {
      "cell_type": "code",
      "execution_count": 94,
      "metadata": {
        "colab": {
          "base_uri": "https://localhost:8080/"
        },
        "id": "FUVxXCS9MjnS",
        "outputId": "42a6dc3b-d83c-4dd7-eaaa-cfd5441360b1"
      },
      "outputs": [
        {
          "name": "stdout",
          "output_type": "stream",
          "text": [
            "[<__main__.ContaCorrente object at 0x00000216AC693400>, <__main__.ContaCorrente object at 0x00000216AC692E00>]\n"
          ]
        }
      ],
      "source": [
        "contas = [conta_do_gui, conta_da_dani]\n",
        "print(contas)"
      ]
    },
    {
      "cell_type": "code",
      "execution_count": 95,
      "metadata": {
        "colab": {
          "base_uri": "https://localhost:8080/"
        },
        "id": "7tkg4Yw4MlnD",
        "outputId": "c28677ec-7604-4be8-e464-5df7a24bdefc"
      },
      "outputs": [
        {
          "name": "stdout",
          "output_type": "stream",
          "text": [
            "[>>Código 15 Saldo 500<<]\n",
            "[>>Código 47685 Saldo 1000<<]\n"
          ]
        }
      ],
      "source": [
        "for conta in contas:\n",
        "    print(conta)"
      ]
    },
    {
      "cell_type": "code",
      "execution_count": 96,
      "metadata": {
        "colab": {
          "base_uri": "https://localhost:8080/"
        },
        "id": "Etc7erRGMniT",
        "outputId": "9721d404-4c8c-406a-9b0c-5e36c10ea213"
      },
      "outputs": [
        {
          "name": "stdout",
          "output_type": "stream",
          "text": [
            "[>>Código 15 Saldo 500<<]\n",
            "[>>Código 15 Saldo 600<<]\n",
            "[>>Código 47685 Saldo 1000<<]\n",
            "[>>Código 15 Saldo 600<<]\n"
          ]
        }
      ],
      "source": [
        "contas = [conta_do_gui, conta_da_dani, conta_do_gui]\n",
        "print(contas[0])\n",
        "conta_do_gui.deposita(100)\n",
        "\n",
        "for conta in contas:\n",
        "    print(conta)"
      ]
    },
    {
      "cell_type": "code",
      "execution_count": 97,
      "metadata": {
        "colab": {
          "base_uri": "https://localhost:8080/"
        },
        "id": "TejpNMWAMppr",
        "outputId": "e214c4e5-874b-4136-93dc-794f9a99df6c"
      },
      "outputs": [
        {
          "name": "stdout",
          "output_type": "stream",
          "text": [
            "[>>Código 15 Saldo 900<<]\n"
          ]
        }
      ],
      "source": [
        "contas[2].deposita(300)\n",
        "print(conta_do_gui)"
      ]
    },
    {
      "cell_type": "code",
      "execution_count": 98,
      "metadata": {
        "id": "VhwNPAqCM3Qj"
      },
      "outputs": [],
      "source": [
        "def deposita_para_todas(contas):\n",
        "    for conta in contas:\n",
        "        conta.deposita(100)"
      ]
    },
    {
      "cell_type": "code",
      "execution_count": 99,
      "metadata": {
        "colab": {
          "base_uri": "https://localhost:8080/"
        },
        "id": "GKBrSs0LM5eK",
        "outputId": "2266610d-5c06-4231-c0db-3a9597d79d6f"
      },
      "outputs": [
        {
          "name": "stdout",
          "output_type": "stream",
          "text": [
            "[>>Código 15 Saldo 1000<<]\n",
            "[>>Código 47685 Saldo 1100<<]\n"
          ]
        }
      ],
      "source": [
        "contas = [conta_do_gui, conta_da_dani]\n",
        "deposita_para_todas(contas)\n",
        "for conta in contas:\n",
        "    print(conta)"
      ]
    },
    {
      "cell_type": "code",
      "execution_count": 100,
      "metadata": {
        "colab": {
          "base_uri": "https://localhost:8080/",
          "height": 304
        },
        "id": "8oGLrdgKM7FS",
        "outputId": "690b104d-47e3-451a-b7ec-de8f1e9ba47a"
      },
      "outputs": [
        {
          "name": "stdout",
          "output_type": "stream",
          "text": [
            "76 [>>Código 15 Saldo 1000<<] [>>Código 47685 Saldo 1100<<]\n"
          ]
        },
        {
          "ename": "AttributeError",
          "evalue": "'int' object has no attribute 'deposita'",
          "output_type": "error",
          "traceback": [
            "\u001b[1;31m---------------------------------------------------------------------------\u001b[0m",
            "\u001b[1;31mAttributeError\u001b[0m                            Traceback (most recent call last)",
            "\u001b[1;32mc:\\Users\\edmarp\\Documents\\Projetos\\python-para-web\\python-collections-parte-1-listas-e-tuplas\\Python_Collections_parte_1_listas_e_tuplas.ipynb Célula: 25\u001b[0m in \u001b[0;36m<cell line: 5>\u001b[1;34m()\u001b[0m\n\u001b[0;32m      <a href='vscode-notebook-cell:/c%3A/Users/edmarp/Documents/Projetos/python-para-web/python-collections-parte-1-listas-e-tuplas/Python_Collections_parte_1_listas_e_tuplas.ipynb#X33sZmlsZQ%3D%3D?line=1'>2</a>\u001b[0m contas\u001b[39m.\u001b[39minsert(\u001b[39m0\u001b[39m, \u001b[39m76\u001b[39m)\n\u001b[0;32m      <a href='vscode-notebook-cell:/c%3A/Users/edmarp/Documents/Projetos/python-para-web/python-collections-parte-1-listas-e-tuplas/Python_Collections_parte_1_listas_e_tuplas.ipynb#X33sZmlsZQ%3D%3D?line=2'>3</a>\u001b[0m \u001b[39mprint\u001b[39m(contas[\u001b[39m0\u001b[39m], contas[\u001b[39m1\u001b[39m], contas[\u001b[39m2\u001b[39m])\n\u001b[1;32m----> <a href='vscode-notebook-cell:/c%3A/Users/edmarp/Documents/Projetos/python-para-web/python-collections-parte-1-listas-e-tuplas/Python_Collections_parte_1_listas_e_tuplas.ipynb#X33sZmlsZQ%3D%3D?line=4'>5</a>\u001b[0m deposita_para_todas(contas)\n",
            "\u001b[1;32mc:\\Users\\edmarp\\Documents\\Projetos\\python-para-web\\python-collections-parte-1-listas-e-tuplas\\Python_Collections_parte_1_listas_e_tuplas.ipynb Célula: 25\u001b[0m in \u001b[0;36mdeposita_para_todas\u001b[1;34m(contas)\u001b[0m\n\u001b[0;32m      <a href='vscode-notebook-cell:/c%3A/Users/edmarp/Documents/Projetos/python-para-web/python-collections-parte-1-listas-e-tuplas/Python_Collections_parte_1_listas_e_tuplas.ipynb#X33sZmlsZQ%3D%3D?line=0'>1</a>\u001b[0m \u001b[39mdef\u001b[39;00m \u001b[39mdeposita_para_todas\u001b[39m(contas):\n\u001b[0;32m      <a href='vscode-notebook-cell:/c%3A/Users/edmarp/Documents/Projetos/python-para-web/python-collections-parte-1-listas-e-tuplas/Python_Collections_parte_1_listas_e_tuplas.ipynb#X33sZmlsZQ%3D%3D?line=1'>2</a>\u001b[0m     \u001b[39mfor\u001b[39;00m conta \u001b[39min\u001b[39;00m contas:\n\u001b[1;32m----> <a href='vscode-notebook-cell:/c%3A/Users/edmarp/Documents/Projetos/python-para-web/python-collections-parte-1-listas-e-tuplas/Python_Collections_parte_1_listas_e_tuplas.ipynb#X33sZmlsZQ%3D%3D?line=2'>3</a>\u001b[0m         conta\u001b[39m.\u001b[39;49mdeposita(\u001b[39m100\u001b[39m)\n",
            "\u001b[1;31mAttributeError\u001b[0m: 'int' object has no attribute 'deposita'"
          ]
        }
      ],
      "source": [
        "# lista é mutável e pode abrigar vários tipos de uma vez podendo causar erros\n",
        "contas.insert(0, 76)\n",
        "print(contas[0], contas[1], contas[2])\n",
        "\n",
        "deposita_para_todas(contas)"
      ]
    },
    {
      "cell_type": "code",
      "execution_count": null,
      "metadata": {
        "id": "clSXmXjyM-zz"
      },
      "outputs": [],
      "source": [
        "# tupla - imutável\n",
        "guilherme = (\"Guilherme\", 37, 1981)\n",
        "daniela = (\"Daniela\", 31, 1987)\n",
        "# paulo = (39, \"Paulo\", 1979) # ruim"
      ]
    },
    {
      "cell_type": "code",
      "execution_count": null,
      "metadata": {
        "id": "wvLWN3_aNDB0"
      },
      "outputs": [],
      "source": [
        "# variação OO\n",
        "conta_do_gui.deposita(100)"
      ]
    },
    {
      "cell_type": "code",
      "execution_count": null,
      "metadata": {
        "id": "UeS82ajxNEdi"
      },
      "outputs": [],
      "source": [
        "# variação funcional\n",
        "def deposita(conta): # separando o comportamento dos dados\n",
        "    novo_saldo = conta[1] + 100\n",
        "    codigo = conta[0]\n",
        "    return (codigo, novo_saldo)"
      ]
    },
    {
      "cell_type": "code",
      "execution_count": null,
      "metadata": {
        "colab": {
          "base_uri": "https://localhost:8080/"
        },
        "id": "CUO1gA_zNG_E",
        "outputId": "3b892439-fa0b-413a-c884-f0736029c196"
      },
      "outputs": [],
      "source": [
        "conta_do_gui = (15, 1000)\n",
        "# conta_do_gui[1] += 100\n",
        "conta_do_gui = deposita(conta_do_gui)\n",
        "print(conta_do_gui)"
      ]
    },
    {
      "cell_type": "code",
      "execution_count": null,
      "metadata": {
        "colab": {
          "base_uri": "https://localhost:8080/"
        },
        "id": "50jnx5l4NJqU",
        "outputId": "865c472e-9d8b-42eb-f77f-cb377eee7be4"
      },
      "outputs": [],
      "source": [
        "usuarios = [guilherme, daniela]\n",
        "print(usuarios)\n",
        "usuarios.append((\"Paulo\", 39, 1979))\n",
        "print(usuarios)"
      ]
    },
    {
      "cell_type": "code",
      "execution_count": null,
      "metadata": {
        "colab": {
          "base_uri": "https://localhost:8080/"
        },
        "id": "l6ETvlr_NL5c",
        "outputId": "66e95500-0683-4a6c-b4ff-7bfaf0beaf71"
      },
      "outputs": [],
      "source": [
        "conta_do_gui = ContaCorrente(15)\n",
        "conta_do_gui.deposita(500)\n",
        "conta_da_dani = ContaCorrente(234876)\n",
        "conta_da_dani.deposita(1000)\n",
        "\n",
        "contas = (conta_do_gui, conta_da_dani)\n",
        "\n",
        "for conta in contas:\n",
        "    print(conta)"
      ]
    },
    {
      "cell_type": "code",
      "execution_count": null,
      "metadata": {
        "id": "RlKa7xQjNO3T"
      },
      "outputs": [],
      "source": [
        "# contas.append(423768)\n",
        "contas[0].deposita(100)\n",
        "for conta in contas:\n",
        "    print(conta)"
      ]
    },
    {
      "cell_type": "markdown",
      "metadata": {
        "id": "Ed9joTD5Qg_M"
      },
      "source": [
        "# Herança e polimorfismo"
      ]
    },
    {
      "cell_type": "code",
      "execution_count": null,
      "metadata": {
        "id": "oyo0BzWXQj1G"
      },
      "outputs": [],
      "source": [
        "from abc import ABCMeta, abstractmethod\n",
        "class Conta(metaclass=ABCMeta):\n",
        "  def __init__(self, codigo):\n",
        "    self._codigo = codigo\n",
        "    self._saldo = 0\n",
        "\n",
        "  def deposita(self, valor):\n",
        "    self._saldo += valor\n",
        "\n",
        "  @abstractmethod\n",
        "  def passa_o_mes(self):\n",
        "    pass\n",
        "\n",
        "  def __str__(self):\n",
        "    return f\"[>>Codigo {self._codigo} Saldo {self._saldo}<<]\""
      ]
    },
    {
      "cell_type": "code",
      "execution_count": null,
      "metadata": {
        "colab": {
          "base_uri": "https://localhost:8080/",
          "height": 165
        },
        "id": "vLJIYLavRKQ-",
        "outputId": "b09a7efb-a5db-436c-b7a7-0f2e3cb6c759"
      },
      "outputs": [],
      "source": [
        "print(Conta(88))"
      ]
    },
    {
      "cell_type": "code",
      "execution_count": null,
      "metadata": {
        "id": "7O5BcDWlR7dt"
      },
      "outputs": [],
      "source": [
        "class ContaCorrente(Conta):\n",
        "  def passa_o_mes(self):\n",
        "    self._saldo -= 2\n",
        "\n",
        "class ContaPoupanca(Conta):\n",
        "  def passa_o_mes(self):\n",
        "    self._saldo *= 1.01\n",
        "    self._saldo -= 3\n",
        "\n",
        "class ContaInvestimento(Conta):\n",
        "  pass"
      ]
    },
    {
      "cell_type": "code",
      "execution_count": null,
      "metadata": {
        "colab": {
          "base_uri": "https://localhost:8080/",
          "height": 165
        },
        "id": "7F2gZ6Tubgss",
        "outputId": "c7f91732-eea4-4bb1-af78-c6c9a644fec7"
      },
      "outputs": [],
      "source": [
        "ContaInvestimento(764)"
      ]
    },
    {
      "cell_type": "code",
      "execution_count": null,
      "metadata": {
        "colab": {
          "base_uri": "https://localhost:8080/"
        },
        "id": "DHJ6cYhFSM9E",
        "outputId": "e9380314-abb6-448c-e156-eec31bd47193"
      },
      "outputs": [],
      "source": [
        "conta16 = ContaCorrente(16)\n",
        "conta16.deposita(1000)\n",
        "conta16.passa_o_mes()\n",
        "print(conta16)"
      ]
    },
    {
      "cell_type": "code",
      "execution_count": null,
      "metadata": {
        "colab": {
          "base_uri": "https://localhost:8080/"
        },
        "id": "UrHgS1sgSXYt",
        "outputId": "22621d93-bb63-4094-b649-2aeaf7d5ea0c"
      },
      "outputs": [],
      "source": [
        "conta17 = ContaPoupanca(17)\n",
        "conta17.deposita(1000)\n",
        "conta17.passa_o_mes()\n",
        "print(conta17)"
      ]
    },
    {
      "cell_type": "code",
      "execution_count": null,
      "metadata": {
        "colab": {
          "base_uri": "https://localhost:8080/"
        },
        "id": "hb8f_ZRnSid0",
        "outputId": "d7404a0c-d8f8-499f-e899-cec8e1a4eba6"
      },
      "outputs": [],
      "source": [
        "conta16 = ContaCorrente(16)\n",
        "conta16.deposita(1000)\n",
        "conta17 = ContaPoupanca(17)\n",
        "conta17.deposita(1000)\n",
        "contas = [conta16, conta17]\n",
        "\n",
        "for conta in contas:\n",
        "  conta.passa_o_mes() # duck typing\n",
        "  print(conta)\n"
      ]
    },
    {
      "cell_type": "markdown",
      "metadata": {
        "id": "wyzm9lAMZuiR"
      },
      "source": [
        "# evitaremos usar array puro. se precisamos de trabalho numérico, é costume usar numpy\n",
        "\n"
      ]
    },
    {
      "cell_type": "code",
      "execution_count": null,
      "metadata": {
        "colab": {
          "base_uri": "https://localhost:8080/"
        },
        "id": "PgNG2q3-ZxxB",
        "outputId": "7bc64f41-e79b-47e9-c40b-7af6e654cee6"
      },
      "outputs": [],
      "source": [
        "import array as arr\n",
        "\n",
        "arr.array(\"d\", [1, 3.5])"
      ]
    },
    {
      "cell_type": "code",
      "execution_count": null,
      "metadata": {
        "colab": {
          "base_uri": "https://localhost:8080/",
          "height": 165
        },
        "id": "nVlmDhAkZ7W4",
        "outputId": "78203ad2-d787-459e-b39a-8e76076bb6e3"
      },
      "outputs": [],
      "source": [
        "arr.array(\"d\", [1, 3.5, \"Guilherme\"])"
      ]
    },
    {
      "cell_type": "code",
      "execution_count": null,
      "metadata": {
        "colab": {
          "base_uri": "https://localhost:8080/"
        },
        "id": "0UkmhdukaT7B",
        "outputId": "becf4fbc-2417-4fed-d692-cacf6eb09c73"
      },
      "outputs": [
        {
          "name": "stdout",
          "output_type": "stream",
          "text": [
            "Collecting numpy\n",
            "  Downloading numpy-1.23.2-cp310-cp310-win_amd64.whl (14.6 MB)\n",
            "     --------------------------------------- 14.6/14.6 MB 25.1 MB/s eta 0:00:00\n",
            "Installing collected packages: numpy\n",
            "Successfully installed numpy-1.23.2\n",
            "Note: you may need to restart the kernel to use updated packages.\n"
          ]
        },
        {
          "name": "stderr",
          "output_type": "stream",
          "text": [
            "WARNING: You are using pip version 22.0.4; however, version 22.2.2 is available.\n",
            "You should consider upgrading via the 'c:\\Users\\edmarp\\AppData\\Local\\Programs\\Python\\Python310\\python.exe -m pip install --upgrade pip' command.\n"
          ]
        }
      ],
      "source": [
        "%pip install numpy"
      ]
    },
    {
      "cell_type": "code",
      "execution_count": null,
      "metadata": {
        "colab": {
          "base_uri": "https://localhost:8080/"
        },
        "id": "VbSVy3rkaYVK",
        "outputId": "168768a3-dbc7-4a7b-b110-b4fc63399a23"
      },
      "outputs": [
        {
          "data": {
            "text/plain": [
              "array([1. , 3.5])"
            ]
          },
          "execution_count": 76,
          "metadata": {},
          "output_type": "execute_result"
        }
      ],
      "source": [
        "import numpy as np\n",
        "\n",
        "numeros = np.array([1, 3.5])\n",
        "numeros"
      ]
    },
    {
      "cell_type": "code",
      "execution_count": null,
      "metadata": {
        "colab": {
          "base_uri": "https://localhost:8080/"
        },
        "id": "M-tlHx9salr6",
        "outputId": "3e943e42-4c1b-4728-d109-fb3755d99f9c"
      },
      "outputs": [],
      "source": [
        "numeros + 3"
      ]
    },
    {
      "cell_type": "code",
      "execution_count": null,
      "metadata": {
        "id": "BWBDtQGmantS"
      },
      "outputs": [],
      "source": [
        "class ContaSalario:\n",
        "  def __init__(self, codigo):\n",
        "    self._codigo = codigo\n",
        "    self._saldo = 0\n",
        "\n",
        "  def deposita(self, valor):\n",
        "    self._saldo += valor\n",
        "\n",
        "  def __str__(self):\n",
        "    return f\"[>>Codigo {self._codigo} Saldo {self._saldo}<<]\""
      ]
    },
    {
      "cell_type": "code",
      "execution_count": null,
      "metadata": {
        "colab": {
          "base_uri": "https://localhost:8080/"
        },
        "id": "f8RAmjpCgL1N",
        "outputId": "e817ef78-dcd4-4e4b-af61-0fb07dc4a4f3"
      },
      "outputs": [],
      "source": [
        "conta1 = ContaSalario(37)\n",
        "print(conta1)"
      ]
    },
    {
      "cell_type": "code",
      "execution_count": null,
      "metadata": {
        "colab": {
          "base_uri": "https://localhost:8080/"
        },
        "id": "aeE0HQDVgPqK",
        "outputId": "e2f7b3f3-9f51-409f-cf23-8e3b2ab6797f"
      },
      "outputs": [],
      "source": [
        "conta2 = ContaSalario(37)\n",
        "print(conta2)"
      ]
    },
    {
      "cell_type": "code",
      "execution_count": null,
      "metadata": {
        "colab": {
          "base_uri": "https://localhost:8080/"
        },
        "id": "_H9aWDz-gYIq",
        "outputId": "6cfc54e9-f3be-4008-ae95-fc195fd56a67"
      },
      "outputs": [],
      "source": [
        "conta1 == conta2"
      ]
    },
    {
      "cell_type": "code",
      "execution_count": null,
      "metadata": {
        "colab": {
          "base_uri": "https://localhost:8080/"
        },
        "id": "bdMOsJs5gc45",
        "outputId": "bc5afaf3-98ae-4d46-cd79-443510dc7df1"
      },
      "outputs": [],
      "source": [
        "contas = [conta1]\n",
        "conta1 in contas"
      ]
    },
    {
      "cell_type": "code",
      "execution_count": null,
      "metadata": {
        "colab": {
          "base_uri": "https://localhost:8080/"
        },
        "id": "Nh4qO9nCgn0q",
        "outputId": "8d2472db-4715-4068-c772-b1d0fe5c3df1"
      },
      "outputs": [],
      "source": [
        "conta2 in contas"
      ]
    },
    {
      "cell_type": "code",
      "execution_count": null,
      "metadata": {
        "id": "OYWu4pHVgpMp"
      },
      "outputs": [],
      "source": [
        "class ContaSalario:\n",
        "  def __init__(self, codigo):\n",
        "    self._codigo = codigo\n",
        "    self._saldo = 0\n",
        "\n",
        "  def __eq__(self, outro):\n",
        "    return self._codigo == outro._codigo\n",
        "\n",
        "  def deposita(self, valor):\n",
        "    self._saldo += valor\n",
        "\n",
        "  def __str__(self):\n",
        "    return f\"[>>Codigo {self._codigo} Saldo {self._saldo}<<]\""
      ]
    },
    {
      "cell_type": "code",
      "execution_count": null,
      "metadata": {
        "colab": {
          "base_uri": "https://localhost:8080/"
        },
        "id": "-J2NFVNXg6iK",
        "outputId": "3c406432-2706-4a5d-f14e-f0f0dacde21a"
      },
      "outputs": [],
      "source": [
        "conta1 = ContaSalario(37)\n",
        "conta2 = ContaSalario(37)\n",
        "conta1 == conta2"
      ]
    },
    {
      "cell_type": "code",
      "execution_count": null,
      "metadata": {
        "colab": {
          "base_uri": "https://localhost:8080/"
        },
        "id": "z-5iIUs0hCK5",
        "outputId": "36c79a69-b36e-4031-e561-5f46e974fb71"
      },
      "outputs": [],
      "source": [
        "conta1 != conta2"
      ]
    },
    {
      "cell_type": "code",
      "execution_count": null,
      "metadata": {
        "colab": {
          "base_uri": "https://localhost:8080/"
        },
        "id": "87Dke1H3hICi",
        "outputId": "62eca9b0-7419-4a4d-acd4-99751c2df6bb"
      },
      "outputs": [],
      "source": [
        "conta1 in [conta2]"
      ]
    },
    {
      "cell_type": "code",
      "execution_count": null,
      "metadata": {
        "colab": {
          "base_uri": "https://localhost:8080/"
        },
        "id": "S25GTAHwhKfx",
        "outputId": "fec31f0f-ce0e-47d9-97a4-c5b52c70106b"
      },
      "outputs": [],
      "source": [
        "conta2 in [conta1]"
      ]
    },
    {
      "cell_type": "code",
      "execution_count": null,
      "metadata": {
        "id": "yO5onDPWhPKZ"
      },
      "outputs": [],
      "source": [
        "class ContaSalario:\n",
        "  def __init__(self, codigo):\n",
        "    self._codigo = codigo\n",
        "    self._saldo = 0\n",
        "\n",
        "  def __eq__(self, outro):\n",
        "    if type(outro) != ContaSalario:\n",
        "      return False\n",
        "    return self._codigo == outro._codigo and self._saldo == outro._saldo\n",
        "\n",
        "  def deposita(self, valor):\n",
        "    self._saldo += valor\n",
        "\n",
        "  def __str__(self):\n",
        "    return f\"[>>Codigo {self._codigo} Saldo {self._saldo}<<]\""
      ]
    },
    {
      "cell_type": "code",
      "execution_count": null,
      "metadata": {
        "id": "0YJkXfowhZ3K"
      },
      "outputs": [],
      "source": [
        "conta1 = ContaSalario(37)\n",
        "conta2 = ContaSalario(37)\n",
        "\n",
        "conta1.deposita(10)"
      ]
    },
    {
      "cell_type": "code",
      "execution_count": null,
      "metadata": {
        "colab": {
          "base_uri": "https://localhost:8080/"
        },
        "id": "0hc3pi74hevx",
        "outputId": "6e832da9-b70f-4d30-e213-ff8a350980f8"
      },
      "outputs": [],
      "source": [
        "conta1 == conta2"
      ]
    },
    {
      "cell_type": "code",
      "execution_count": null,
      "metadata": {
        "id": "bpTth63Hhf1y"
      },
      "outputs": [],
      "source": [
        "conta1 = ContaSalario(37)\n",
        "conta2 = ContaCorrente(37)"
      ]
    },
    {
      "cell_type": "code",
      "execution_count": null,
      "metadata": {
        "colab": {
          "base_uri": "https://localhost:8080/"
        },
        "id": "6iF_sgLth_Lp",
        "outputId": "84f12113-7a49-48be-e938-5c746192a34a"
      },
      "outputs": [],
      "source": [
        "conta1 == conta2"
      ]
    },
    {
      "cell_type": "code",
      "execution_count": null,
      "metadata": {
        "id": "5WGwvlmwiAtx"
      },
      "outputs": [],
      "source": [
        "class ContaSalario:\n",
        "  def __init__(self, codigo):\n",
        "    self._codigo = codigo\n",
        "    self._saldo = 0\n",
        "\n",
        "  def __eq__(self, outro):\n",
        "    if type(outro) != ContaSalario:\n",
        "      return False\n",
        "    return self._codigo == outro._codigo and self._saldo == outro._saldo\n",
        "\n",
        "  def deposita(self, valor):\n",
        "    self._saldo += valor\n",
        "\n",
        "  def __str__(self):\n",
        "    return f\"[>>Codigo {self._codigo} Saldo {self._saldo}<<]\"\n",
        "\n",
        "class ContaMultiploSalario(ContaSalario):\n",
        "  pass"
      ]
    },
    {
      "cell_type": "code",
      "execution_count": null,
      "metadata": {
        "colab": {
          "base_uri": "https://localhost:8080/"
        },
        "id": "8YMdJueAiJAp",
        "outputId": "8d840d1e-398b-419c-d0f4-6b8a6577d709"
      },
      "outputs": [],
      "source": [
        "isinstance(ContaCorrente(34), ContaCorrente)"
      ]
    },
    {
      "cell_type": "code",
      "execution_count": null,
      "metadata": {
        "colab": {
          "base_uri": "https://localhost:8080/"
        },
        "id": "3W_FejqNiZUA",
        "outputId": "4bf954eb-975a-41bc-c4e8-45bcce4c75f3"
      },
      "outputs": [],
      "source": [
        "isinstance(ContaCorrente(34), Conta)"
      ]
    },
    {
      "cell_type": "code",
      "execution_count": null,
      "metadata": {
        "id": "ytQOZH5Jmoc6"
      },
      "outputs": [
        {
          "name": "stdout",
          "output_type": "stream",
          "text": [
            "0 15\n",
            "1 87\n",
            "2 32\n",
            "3 65\n",
            "4 56\n",
            "5 32\n",
            "6 49\n",
            "7 37\n"
          ]
        }
      ],
      "source": [
        "idades = [15, 87, 32, 65, 56, 32, 49, 37]\n",
        "\n",
        "for i in range(len(idades)):\n",
        "    print(i, idades[i])"
      ]
    },
    {
      "cell_type": "code",
      "execution_count": null,
      "metadata": {},
      "outputs": [
        {
          "data": {
            "text/plain": [
              "range(0, 8)"
            ]
          },
          "execution_count": 7,
          "metadata": {},
          "output_type": "execute_result"
        }
      ],
      "source": [
        "range(len(idades)) # lazy..."
      ]
    },
    {
      "cell_type": "code",
      "execution_count": null,
      "metadata": {},
      "outputs": [
        {
          "data": {
            "text/plain": [
              "<enumerate at 0x22e031a0780>"
            ]
          },
          "execution_count": 8,
          "metadata": {},
          "output_type": "execute_result"
        }
      ],
      "source": [
        "enumerate(idades) # lazy"
      ]
    },
    {
      "cell_type": "code",
      "execution_count": null,
      "metadata": {},
      "outputs": [
        {
          "data": {
            "text/plain": [
              "[0, 1, 2, 3, 4, 5, 6, 7]"
            ]
          },
          "execution_count": 10,
          "metadata": {},
          "output_type": "execute_result"
        }
      ],
      "source": [
        "list(range(len(idades))) # forcei a geração dos valores"
      ]
    },
    {
      "cell_type": "code",
      "execution_count": null,
      "metadata": {},
      "outputs": [
        {
          "data": {
            "text/plain": [
              "[(0, 15), (1, 87), (2, 32), (3, 65), (4, 56), (5, 32), (6, 49), (7, 37)]"
            ]
          },
          "execution_count": 11,
          "metadata": {},
          "output_type": "execute_result"
        }
      ],
      "source": [
        "list(enumerate(idades))"
      ]
    },
    {
      "cell_type": "code",
      "execution_count": null,
      "metadata": {},
      "outputs": [
        {
          "name": "stdout",
          "output_type": "stream",
          "text": [
            "0 x 15\n",
            "1 x 87\n",
            "2 x 32\n",
            "3 x 65\n",
            "4 x 56\n",
            "5 x 32\n",
            "6 x 49\n",
            "7 x 37\n"
          ]
        }
      ],
      "source": [
        "for indice, idade in enumerate(idades): # unpacking da nossa tupla\n",
        "    print(indice, \"x\", idade)"
      ]
    },
    {
      "cell_type": "code",
      "execution_count": null,
      "metadata": {},
      "outputs": [
        {
          "name": "stdout",
          "output_type": "stream",
          "text": [
            "Guilherme\n",
            "Daniela\n",
            "Paulo\n"
          ]
        }
      ],
      "source": [
        "usuarios = [\n",
        "    (\"Guilherme\", 37, 1981),\n",
        "    (\"Daniela\", 31, 1987),\n",
        "    (\"Paulo\", 39, 1979)\n",
        "]\n",
        "\n",
        "for nome, idade, nascimento in usuarios: # ja desempacotando - mais legível - explícito\n",
        "    print(nome)"
      ]
    },
    {
      "cell_type": "code",
      "execution_count": null,
      "metadata": {},
      "outputs": [
        {
          "name": "stdout",
          "output_type": "stream",
          "text": [
            "Guilherme\n",
            "Daniela\n",
            "Paulo\n"
          ]
        }
      ],
      "source": [
        "for nome, _, _ in usuarios: # ja desempacotando, ignorando o resto - implícito\n",
        "    print(nome)"
      ]
    },
    {
      "cell_type": "code",
      "execution_count": null,
      "metadata": {},
      "outputs": [
        {
          "data": {
            "text/plain": [
              "[15, 87, 32, 65, 56, 32, 49, 37]"
            ]
          },
          "execution_count": 18,
          "metadata": {},
          "output_type": "execute_result"
        }
      ],
      "source": [
        "idades"
      ]
    },
    {
      "cell_type": "code",
      "execution_count": null,
      "metadata": {},
      "outputs": [
        {
          "data": {
            "text/plain": [
              "[15, 32, 32, 37, 49, 56, 65, 87]"
            ]
          },
          "execution_count": 19,
          "metadata": {},
          "output_type": "execute_result"
        }
      ],
      "source": [
        "sorted(idades)"
      ]
    },
    {
      "cell_type": "code",
      "execution_count": null,
      "metadata": {},
      "outputs": [
        {
          "data": {
            "text/plain": [
              "<list_reverseiterator at 0x22e034be5c0>"
            ]
          },
          "execution_count": 20,
          "metadata": {},
          "output_type": "execute_result"
        }
      ],
      "source": [
        "reversed(idades) # devolve um iterável - não altera a lista original - lazy"
      ]
    },
    {
      "cell_type": "code",
      "execution_count": null,
      "metadata": {},
      "outputs": [
        {
          "data": {
            "text/plain": [
              "[37, 49, 32, 56, 65, 32, 87, 15]"
            ]
          },
          "execution_count": 21,
          "metadata": {},
          "output_type": "execute_result"
        }
      ],
      "source": [
        "list(reversed(idades))"
      ]
    },
    {
      "cell_type": "code",
      "execution_count": null,
      "metadata": {},
      "outputs": [
        {
          "data": {
            "text/plain": [
              "[87, 65, 56, 49, 37, 32, 32, 15]"
            ]
          },
          "execution_count": 22,
          "metadata": {},
          "output_type": "execute_result"
        }
      ],
      "source": [
        "sorted(idades, reverse=True) # devolve uma lista nova ordenada a partrir da lista passada como parâmetro - não altera a lista original"
      ]
    },
    {
      "cell_type": "code",
      "execution_count": null,
      "metadata": {},
      "outputs": [
        {
          "data": {
            "text/plain": [
              "[87, 65, 56, 49, 37, 32, 32, 15]"
            ]
          },
          "execution_count": 23,
          "metadata": {},
          "output_type": "execute_result"
        }
      ],
      "source": [
        "list(reversed(sorted(idades)))"
      ]
    },
    {
      "cell_type": "code",
      "execution_count": null,
      "metadata": {},
      "outputs": [],
      "source": [
        "idades.sort() # ordena a lista original"
      ]
    },
    {
      "cell_type": "code",
      "execution_count": null,
      "metadata": {},
      "outputs": [
        {
          "data": {
            "text/plain": [
              "[15, 32, 32, 37, 49, 56, 65, 87]"
            ]
          },
          "execution_count": 25,
          "metadata": {},
          "output_type": "execute_result"
        }
      ],
      "source": [
        "idades"
      ]
    },
    {
      "cell_type": "code",
      "execution_count": null,
      "metadata": {},
      "outputs": [
        {
          "data": {
            "text/plain": [
              "True"
            ]
          },
          "execution_count": 26,
          "metadata": {},
          "output_type": "execute_result"
        }
      ],
      "source": [
        "15 < 32"
      ]
    },
    {
      "cell_type": "code",
      "execution_count": null,
      "metadata": {},
      "outputs": [
        {
          "data": {
            "text/plain": [
              "['Daniela', 'Paula', 'guilherme']"
            ]
          },
          "execution_count": 29,
          "metadata": {},
          "output_type": "execute_result"
        }
      ],
      "source": [
        "nomes = [\"guilherme\", \"Daniela\", \"Paula\"]\n",
        "sorted(nomes)"
      ]
    },
    {
      "cell_type": "code",
      "execution_count": null,
      "metadata": {},
      "outputs": [],
      "source": [
        "class ContaSalario:\n",
        "  def __init__(self, codigo):\n",
        "    self._codigo = codigo\n",
        "    self._saldo = 0\n",
        "\n",
        "  def __eq__(self, outro):\n",
        "    if type(outro) != ContaSalario:\n",
        "      return False\n",
        "    return self._codigo == outro._codigo and self._saldo == outro._saldo\n",
        "\n",
        "  def deposita(self, valor):\n",
        "    self._saldo += valor\n",
        "\n",
        "  def __str__(self):\n",
        "    return f\"[>>Codigo {self._codigo} Saldo {self._saldo}<<]\""
      ]
    },
    {
      "cell_type": "code",
      "execution_count": null,
      "metadata": {},
      "outputs": [],
      "source": [
        "conta_do_guilherme = ContaSalario(17)\n",
        "conta_do_guilherme.deposita(500)\n",
        "\n",
        "conta_da_daniela = ContaSalario(3)\n",
        "conta_da_daniela.deposita(1000)\n",
        "\n",
        "conta_do_paulo = ContaSalario(133)\n",
        "conta_do_paulo.deposita(510)\n",
        "\n",
        "contas = [conta_do_guilherme, conta_da_daniela, conta_do_paulo]"
      ]
    },
    {
      "cell_type": "code",
      "execution_count": null,
      "metadata": {},
      "outputs": [
        {
          "name": "stdout",
          "output_type": "stream",
          "text": [
            "[>>Codigo 17 Saldo 500<<]\n",
            "[>>Codigo 3 Saldo 1000<<]\n",
            "[>>Codigo 133 Saldo 510<<]\n"
          ]
        }
      ],
      "source": [
        "for conta in contas:\n",
        "    print(conta)"
      ]
    },
    {
      "cell_type": "code",
      "execution_count": null,
      "metadata": {},
      "outputs": [
        {
          "ename": "TypeError",
          "evalue": "'<' not supported between instances of 'ContaSalario' and 'ContaSalario'",
          "output_type": "error",
          "traceback": [
            "\u001b[1;31m---------------------------------------------------------------------------\u001b[0m",
            "\u001b[1;31mTypeError\u001b[0m                                 Traceback (most recent call last)",
            "\u001b[1;32mc:\\Users\\edmarp\\Documents\\Projetos\\python-para-web\\python-collections-parte-1-listas-e-tuplas\\Python_Collections_parte_1_listas_e_tuplas.ipynb Célula: 87\u001b[0m in \u001b[0;36m<cell line: 1>\u001b[1;34m()\u001b[0m\n\u001b[1;32m----> <a href='vscode-notebook-cell:/c%3A/Users/edmarp/Documents/Projetos/python-para-web/python-collections-parte-1-listas-e-tuplas/Python_Collections_parte_1_listas_e_tuplas.ipynb#Y152sZmlsZQ%3D%3D?line=0'>1</a>\u001b[0m \u001b[39msorted\u001b[39;49m(contas)\n",
            "\u001b[1;31mTypeError\u001b[0m: '<' not supported between instances of 'ContaSalario' and 'ContaSalario'"
          ]
        }
      ],
      "source": [
        "# sorted(contas)"
      ]
    },
    {
      "cell_type": "code",
      "execution_count": null,
      "metadata": {},
      "outputs": [
        {
          "name": "stdout",
          "output_type": "stream",
          "text": [
            "[>>Codigo 17 Saldo 500<<]\n",
            "[>>Codigo 133 Saldo 510<<]\n",
            "[>>Codigo 3 Saldo 1000<<]\n"
          ]
        }
      ],
      "source": [
        "def extrai_saldo(conta):\n",
        "    return conta._saldo\n",
        "\n",
        "for conta in sorted(contas, key=extrai_saldo):\n",
        "    print(conta)"
      ]
    },
    {
      "cell_type": "code",
      "execution_count": 107,
      "metadata": {},
      "outputs": [
        {
          "name": "stdout",
          "output_type": "stream",
          "text": [
            "[>>Codigo 1700 Saldo 500<<]\n",
            "[>>Codigo 133 Saldo 500<<]\n",
            "[>>Codigo 3 Saldo 1000<<]\n"
          ]
        }
      ],
      "source": [
        "from operator import attrgetter\n",
        "\n",
        "for conta in sorted(contas, key=attrgetter(\"_saldo\")):\n",
        "    print(conta)"
      ]
    },
    {
      "cell_type": "code",
      "execution_count": 101,
      "metadata": {},
      "outputs": [],
      "source": [
        "class ContaSalario:\n",
        "  def __init__(self, codigo):\n",
        "    self._codigo = codigo\n",
        "    self._saldo = 0\n",
        "\n",
        "  def __eq__(self, outro):\n",
        "    if type(outro) != ContaSalario:\n",
        "      return False\n",
        "    return self._codigo == outro._codigo and self._saldo == outro._saldo\n",
        "\n",
        "  def __lt__(self, outro):\n",
        "      return self._saldo < outro._saldo\n",
        "\n",
        "  def deposita(self, valor):\n",
        "    self._saldo += valor\n",
        "\n",
        "  def __str__(self):\n",
        "    return f\"[>>Codigo {self._codigo} Saldo {self._saldo}<<]\""
      ]
    },
    {
      "cell_type": "code",
      "execution_count": 102,
      "metadata": {},
      "outputs": [],
      "source": [
        "conta_do_guilherme = ContaSalario(17)\n",
        "conta_do_guilherme.deposita(500)\n",
        "\n",
        "conta_da_daniela = ContaSalario(3)\n",
        "conta_da_daniela.deposita(1000)\n",
        "\n",
        "conta_do_paulo = ContaSalario(133)\n",
        "conta_do_paulo.deposita(510)\n",
        "\n",
        "contas = [conta_do_guilherme, conta_da_daniela, conta_do_paulo]"
      ]
    },
    {
      "cell_type": "code",
      "execution_count": 103,
      "metadata": {},
      "outputs": [
        {
          "data": {
            "text/plain": [
              "True"
            ]
          },
          "execution_count": 103,
          "metadata": {},
          "output_type": "execute_result"
        }
      ],
      "source": [
        "conta_do_guilherme < conta_da_daniela"
      ]
    },
    {
      "cell_type": "code",
      "execution_count": 104,
      "metadata": {},
      "outputs": [
        {
          "data": {
            "text/plain": [
              "False"
            ]
          },
          "execution_count": 104,
          "metadata": {},
          "output_type": "execute_result"
        }
      ],
      "source": [
        "conta_do_guilherme > conta_da_daniela"
      ]
    },
    {
      "cell_type": "code",
      "execution_count": 105,
      "metadata": {},
      "outputs": [
        {
          "name": "stdout",
          "output_type": "stream",
          "text": [
            "[>>Codigo 3 Saldo 1000<<]\n",
            "[>>Codigo 133 Saldo 510<<]\n",
            "[>>Codigo 17 Saldo 500<<]\n"
          ]
        }
      ],
      "source": [
        "for conta in sorted(contas, reverse=True):\n",
        "    print(conta)"
      ]
    },
    {
      "cell_type": "code",
      "execution_count": 109,
      "metadata": {},
      "outputs": [],
      "source": [
        "conta_do_guilherme = ContaSalario(1700)\n",
        "conta_do_guilherme.deposita(500)\n",
        "\n",
        "conta_da_daniela = ContaSalario(3)\n",
        "conta_da_daniela.deposita(500)\n",
        "\n",
        "conta_do_paulo = ContaSalario(133)\n",
        "conta_do_paulo.deposita(500)\n",
        "\n",
        "contas = [conta_do_guilherme, conta_da_daniela, conta_do_paulo]"
      ]
    },
    {
      "cell_type": "code",
      "execution_count": 110,
      "metadata": {},
      "outputs": [
        {
          "name": "stdout",
          "output_type": "stream",
          "text": [
            "[>>Codigo 3 Saldo 500<<]\n",
            "[>>Codigo 133 Saldo 500<<]\n",
            "[>>Codigo 1700 Saldo 500<<]\n"
          ]
        }
      ],
      "source": [
        "for conta in sorted(contas, key=attrgetter(\"_saldo\", \"_codigo\")):\n",
        "    print(conta)"
      ]
    },
    {
      "cell_type": "code",
      "execution_count": 111,
      "metadata": {},
      "outputs": [],
      "source": [
        "class ContaSalario:\n",
        "  def __init__(self, codigo):\n",
        "    self._codigo = codigo\n",
        "    self._saldo = 0\n",
        "\n",
        "  def __eq__(self, outro):\n",
        "    if type(outro) != ContaSalario:\n",
        "      return False\n",
        "    return self._codigo == outro._codigo and self._saldo == outro._saldo\n",
        "\n",
        "  def __lt__(self, outro):\n",
        "    if self._saldo != outro._saldo:\n",
        "        return self._saldo < outro._saldo\n",
        "    else:\n",
        "        return self._codigo < outro._codigo\n",
        "\n",
        "  def deposita(self, valor):\n",
        "    self._saldo += valor\n",
        "\n",
        "  def __str__(self):\n",
        "    return f\"[>>Codigo {self._codigo} Saldo {self._saldo}<<]\""
      ]
    },
    {
      "cell_type": "code",
      "execution_count": 114,
      "metadata": {},
      "outputs": [],
      "source": [
        "conta_do_guilherme = ContaSalario(1700)\n",
        "conta_do_guilherme.deposita(500)\n",
        "\n",
        "conta_da_daniela = ContaSalario(3)\n",
        "conta_da_daniela.deposita(1000)\n",
        "\n",
        "conta_do_paulo = ContaSalario(133)\n",
        "conta_do_paulo.deposita(500)\n",
        "\n",
        "contas = [conta_do_guilherme, conta_da_daniela, conta_do_paulo]"
      ]
    },
    {
      "cell_type": "code",
      "execution_count": 115,
      "metadata": {},
      "outputs": [
        {
          "name": "stdout",
          "output_type": "stream",
          "text": [
            "[>>Codigo 133 Saldo 500<<]\n",
            "[>>Codigo 1700 Saldo 500<<]\n",
            "[>>Codigo 3 Saldo 1000<<]\n"
          ]
        }
      ],
      "source": [
        "for conta in sorted(contas):\n",
        "    print(conta)"
      ]
    },
    {
      "cell_type": "code",
      "execution_count": 116,
      "metadata": {},
      "outputs": [],
      "source": [
        "from functools import total_ordering\n",
        "\n",
        "@total_ordering # Após nós implementarmos uma ou mais funções de ordenação, cuida de usar as que a gente criou para realizar outras ordenações não implementadas\n",
        "class ContaSalario:\n",
        "  def __init__(self, codigo):\n",
        "    self._codigo = codigo\n",
        "    self._saldo = 0\n",
        "\n",
        "  def __eq__(self, outro):\n",
        "    if type(outro) != ContaSalario:\n",
        "      return False\n",
        "    return self._codigo == outro._codigo and self._saldo == outro._saldo\n",
        "\n",
        "  def __lt__(self, outro):\n",
        "    if self._saldo != outro._saldo:\n",
        "        return self._saldo < outro._saldo\n",
        "    else:\n",
        "        return self._codigo < outro._codigo\n",
        "\n",
        "  def deposita(self, valor):\n",
        "    self._saldo += valor\n",
        "\n",
        "  def __str__(self):\n",
        "    return f\"[>>Codigo {self._codigo} Saldo {self._saldo}<<]\""
      ]
    },
    {
      "cell_type": "code",
      "execution_count": 117,
      "metadata": {},
      "outputs": [],
      "source": [
        "conta_do_guilherme = ContaSalario(1700)\n",
        "conta_do_guilherme.deposita(500)\n",
        "\n",
        "conta_da_daniela = ContaSalario(3)\n",
        "conta_da_daniela.deposita(1000)\n",
        "\n",
        "conta_do_paulo = ContaSalario(133)\n",
        "conta_do_paulo.deposita(500)\n",
        "\n",
        "contas = [conta_do_guilherme, conta_da_daniela, conta_do_paulo]"
      ]
    },
    {
      "cell_type": "code",
      "execution_count": 118,
      "metadata": {},
      "outputs": [
        {
          "data": {
            "text/plain": [
              "True"
            ]
          },
          "execution_count": 118,
          "metadata": {},
          "output_type": "execute_result"
        }
      ],
      "source": [
        "conta_do_guilherme <= conta_da_daniela"
      ]
    },
    {
      "cell_type": "code",
      "execution_count": 119,
      "metadata": {},
      "outputs": [
        {
          "data": {
            "text/plain": [
              "False"
            ]
          },
          "execution_count": 119,
          "metadata": {},
          "output_type": "execute_result"
        }
      ],
      "source": [
        "conta_do_guilherme <= conta_do_paulo"
      ]
    },
    {
      "cell_type": "code",
      "execution_count": 120,
      "metadata": {},
      "outputs": [
        {
          "data": {
            "text/plain": [
              "False"
            ]
          },
          "execution_count": 120,
          "metadata": {},
          "output_type": "execute_result"
        }
      ],
      "source": [
        "conta_do_guilherme < conta_do_guilherme"
      ]
    },
    {
      "cell_type": "code",
      "execution_count": 121,
      "metadata": {},
      "outputs": [
        {
          "data": {
            "text/plain": [
              "True"
            ]
          },
          "execution_count": 121,
          "metadata": {},
          "output_type": "execute_result"
        }
      ],
      "source": [
        "conta_do_guilherme == conta_do_guilherme"
      ]
    },
    {
      "cell_type": "code",
      "execution_count": 122,
      "metadata": {},
      "outputs": [
        {
          "data": {
            "text/plain": [
              "True"
            ]
          },
          "execution_count": 122,
          "metadata": {},
          "output_type": "execute_result"
        }
      ],
      "source": [
        "conta_do_guilherme <= conta_do_guilherme"
      ]
    },
    {
      "cell_type": "code",
      "execution_count": null,
      "metadata": {},
      "outputs": [],
      "source": []
    }
  ],
  "metadata": {
    "colab": {
      "collapsed_sections": [],
      "name": "Python Collections parte 1: listas e tuplas.ipynb",
      "provenance": []
    },
    "kernelspec": {
      "display_name": "Python 3.10.4 64-bit",
      "language": "python",
      "name": "python3"
    },
    "language_info": {
      "codemirror_mode": {
        "name": "ipython",
        "version": 3
      },
      "file_extension": ".py",
      "mimetype": "text/x-python",
      "name": "python",
      "nbconvert_exporter": "python",
      "pygments_lexer": "ipython3",
      "version": "3.10.4"
    },
    "vscode": {
      "interpreter": {
        "hash": "c40679267e85ce77c7d830909aad1ced125f770d77bd27f66d01e8963a2470d4"
      }
    }
  },
  "nbformat": 4,
  "nbformat_minor": 0
}
