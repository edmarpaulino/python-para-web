{
 "cells": [
  {
   "cell_type": "code",
   "execution_count": 1,
   "metadata": {},
   "outputs": [],
   "source": [
    "usuarios_data_science = [15, 23, 43, 56]\n",
    "usuarios_machine_learning = [13, 23, 56, 42]"
   ]
  },
  {
   "cell_type": "code",
   "execution_count": 2,
   "metadata": {},
   "outputs": [
    {
     "data": {
      "text/plain": [
       "[15, 23, 43, 56, 13, 23, 56, 42]"
      ]
     },
     "execution_count": 2,
     "metadata": {},
     "output_type": "execute_result"
    }
   ],
   "source": [
    "assistiram = usuarios_data_science.copy()\n",
    "assistiram.extend(usuarios_machine_learning)\n",
    "assistiram"
   ]
  },
  {
   "cell_type": "code",
   "execution_count": 3,
   "metadata": {},
   "outputs": [
    {
     "data": {
      "text/plain": [
       "8"
      ]
     },
     "execution_count": 3,
     "metadata": {},
     "output_type": "execute_result"
    }
   ],
   "source": [
    "len(assistiram)"
   ]
  },
  {
   "cell_type": "code",
   "execution_count": 4,
   "metadata": {},
   "outputs": [
    {
     "data": {
      "text/plain": [
       "{13, 15, 23, 42, 43, 56}"
      ]
     },
     "execution_count": 4,
     "metadata": {},
     "output_type": "execute_result"
    }
   ],
   "source": [
    "set(assistiram) # conjunto - vários elementos que não possuem elementos repetidos"
   ]
  },
  {
   "cell_type": "code",
   "execution_count": 5,
   "metadata": {},
   "outputs": [
    {
     "data": {
      "text/plain": [
       "{1, 2, 3}"
      ]
     },
     "execution_count": 5,
     "metadata": {},
     "output_type": "execute_result"
    }
   ],
   "source": [
    "set([1, 2, 3, 1])"
   ]
  },
  {
   "cell_type": "code",
   "execution_count": 6,
   "metadata": {},
   "outputs": [
    {
     "data": {
      "text/plain": [
       "{1, 2, 3, 4}"
      ]
     },
     "execution_count": 6,
     "metadata": {},
     "output_type": "execute_result"
    }
   ],
   "source": [
    "{4, 1, 2, 3, 1}"
   ]
  },
  {
   "cell_type": "code",
   "execution_count": 7,
   "metadata": {},
   "outputs": [
    {
     "data": {
      "text/plain": [
       "set"
      ]
     },
     "execution_count": 7,
     "metadata": {},
     "output_type": "execute_result"
    }
   ],
   "source": [
    "type({1, 2, 3})"
   ]
  },
  {
   "cell_type": "code",
   "execution_count": 8,
   "metadata": {},
   "outputs": [],
   "source": [
    "usuarios_data_science = {15, 23, 43, 56}\n",
    "usuarios_machine_learning = {13, 23, 56, 42}"
   ]
  },
  {
   "cell_type": "code",
   "execution_count": 9,
   "metadata": {},
   "outputs": [
    {
     "data": {
      "text/plain": [
       "{13, 23, 42, 56}"
      ]
     },
     "execution_count": 9,
     "metadata": {},
     "output_type": "execute_result"
    }
   ],
   "source": [
    "usuarios_machine_learning"
   ]
  },
  {
   "cell_type": "code",
   "execution_count": 10,
   "metadata": {},
   "outputs": [],
   "source": [
    "# usuarios_machine_learning[3] # não possui indexação, porém é iterável"
   ]
  },
  {
   "cell_type": "code",
   "execution_count": 11,
   "metadata": {},
   "outputs": [
    {
     "name": "stdout",
     "output_type": "stream",
     "text": [
      "42\n",
      "43\n",
      "13\n",
      "15\n",
      "23\n",
      "56\n"
     ]
    }
   ],
   "source": [
    "for usuario in set(assistiram):\n",
    "    print(usuario)"
   ]
  },
  {
   "cell_type": "code",
   "execution_count": 12,
   "metadata": {},
   "outputs": [],
   "source": [
    "usuarios_data_science = {15, 23, 43, 56}\n",
    "usuarios_machine_learning = {13, 23, 56, 42}"
   ]
  },
  {
   "cell_type": "code",
   "execution_count": 13,
   "metadata": {},
   "outputs": [
    {
     "data": {
      "text/plain": [
       "{13, 15, 23, 42, 43, 56}"
      ]
     },
     "execution_count": 13,
     "metadata": {},
     "output_type": "execute_result"
    }
   ],
   "source": [
    "usuarios_data_science | usuarios_machine_learning # união de dois conjuntos"
   ]
  },
  {
   "cell_type": "code",
   "execution_count": 14,
   "metadata": {},
   "outputs": [
    {
     "data": {
      "text/plain": [
       "{13, 23, 42, 56}"
      ]
     },
     "execution_count": 14,
     "metadata": {},
     "output_type": "execute_result"
    }
   ],
   "source": [
    "usuarios_machine_learning or usuarios_data_science"
   ]
  },
  {
   "cell_type": "code",
   "execution_count": 15,
   "metadata": {},
   "outputs": [
    {
     "data": {
      "text/plain": [
       "{23, 56}"
      ]
     },
     "execution_count": 15,
     "metadata": {},
     "output_type": "execute_result"
    }
   ],
   "source": [
    "usuarios_data_science & usuarios_machine_learning # intersecção de dois conjuntos"
   ]
  },
  {
   "cell_type": "code",
   "execution_count": 16,
   "metadata": {},
   "outputs": [
    {
     "data": {
      "text/plain": [
       "{15, 43}"
      ]
     },
     "execution_count": 16,
     "metadata": {},
     "output_type": "execute_result"
    }
   ],
   "source": [
    "usuarios_data_science - usuarios_machine_learning # subtrai os elementos que aparecem em ambos os conjuntos"
   ]
  },
  {
   "cell_type": "code",
   "execution_count": 17,
   "metadata": {},
   "outputs": [
    {
     "data": {
      "text/plain": [
       "True"
      ]
     },
     "execution_count": 17,
     "metadata": {},
     "output_type": "execute_result"
    }
   ],
   "source": [
    "fez_ds_mas_nao_fez_ml = usuarios_data_science - usuarios_machine_learning\n",
    "15 in fez_ds_mas_nao_fez_ml"
   ]
  },
  {
   "cell_type": "code",
   "execution_count": 18,
   "metadata": {},
   "outputs": [
    {
     "data": {
      "text/plain": [
       "False"
      ]
     },
     "execution_count": 18,
     "metadata": {},
     "output_type": "execute_result"
    }
   ],
   "source": [
    "23 in fez_ds_mas_nao_fez_ml"
   ]
  },
  {
   "cell_type": "code",
   "execution_count": 19,
   "metadata": {},
   "outputs": [
    {
     "data": {
      "text/plain": [
       "{13, 15, 42, 43}"
      ]
     },
     "execution_count": 19,
     "metadata": {},
     "output_type": "execute_result"
    }
   ],
   "source": [
    "usuarios_data_science ^ usuarios_machine_learning # aparece somente em um dos dois conjuntos"
   ]
  },
  {
   "cell_type": "code",
   "execution_count": 20,
   "metadata": {},
   "outputs": [
    {
     "data": {
      "text/plain": [
       "7"
      ]
     },
     "execution_count": 20,
     "metadata": {},
     "output_type": "execute_result"
    }
   ],
   "source": [
    "usuarios = {1, 5, 76, 34, 52, 13, 17} # um conjunto por padrão é mutável em python\n",
    "len(usuarios)"
   ]
  },
  {
   "cell_type": "code",
   "execution_count": 21,
   "metadata": {},
   "outputs": [
    {
     "data": {
      "text/plain": [
       "7"
      ]
     },
     "execution_count": 21,
     "metadata": {},
     "output_type": "execute_result"
    }
   ],
   "source": [
    "usuarios.add(13)\n",
    "len(usuarios)"
   ]
  },
  {
   "cell_type": "code",
   "execution_count": 22,
   "metadata": {},
   "outputs": [
    {
     "data": {
      "text/plain": [
       "8"
      ]
     },
     "execution_count": 22,
     "metadata": {},
     "output_type": "execute_result"
    }
   ],
   "source": [
    "usuarios.add(765)\n",
    "len(usuarios)"
   ]
  },
  {
   "cell_type": "code",
   "execution_count": 23,
   "metadata": {},
   "outputs": [
    {
     "data": {
      "text/plain": [
       "{1, 5, 13, 17, 34, 52, 76, 765}"
      ]
     },
     "execution_count": 23,
     "metadata": {},
     "output_type": "execute_result"
    }
   ],
   "source": [
    "usuarios"
   ]
  },
  {
   "cell_type": "code",
   "execution_count": 24,
   "metadata": {},
   "outputs": [],
   "source": [
    "usuarios = frozenset(usuarios) # frozenset é um conjunto imutável"
   ]
  },
  {
   "cell_type": "code",
   "execution_count": 25,
   "metadata": {},
   "outputs": [
    {
     "data": {
      "text/plain": [
       "frozenset"
      ]
     },
     "execution_count": 25,
     "metadata": {},
     "output_type": "execute_result"
    }
   ],
   "source": [
    "type(usuarios)"
   ]
  },
  {
   "cell_type": "code",
   "execution_count": 26,
   "metadata": {},
   "outputs": [],
   "source": [
    "# usuarios.add(134)"
   ]
  },
  {
   "cell_type": "code",
   "execution_count": 27,
   "metadata": {},
   "outputs": [
    {
     "data": {
      "text/plain": [
       "['Bem',\n",
       " 'vindo',\n",
       " 'meu',\n",
       " 'nome',\n",
       " 'é',\n",
       " 'Guilherme',\n",
       " 'eu',\n",
       " 'gosto',\n",
       " 'muito',\n",
       " 'de',\n",
       " 'nomes',\n",
       " 'e',\n",
       " 'tenho',\n",
       " 'o',\n",
       " 'meu',\n",
       " 'cachorro',\n",
       " 'e',\n",
       " 'gosto',\n",
       " 'muito',\n",
       " 'de',\n",
       " 'cachorro']"
      ]
     },
     "execution_count": 27,
     "metadata": {},
     "output_type": "execute_result"
    }
   ],
   "source": [
    "meu_texto = \"Bem vindo meu nome é Guilherme eu gosto muito de nomes e tenho o meu cachorro e gosto muito de cachorro\"\n",
    "meu_texto.split()"
   ]
  },
  {
   "cell_type": "code",
   "execution_count": 28,
   "metadata": {},
   "outputs": [
    {
     "data": {
      "text/plain": [
       "{'Bem',\n",
       " 'Guilherme',\n",
       " 'cachorro',\n",
       " 'de',\n",
       " 'e',\n",
       " 'eu',\n",
       " 'gosto',\n",
       " 'meu',\n",
       " 'muito',\n",
       " 'nome',\n",
       " 'nomes',\n",
       " 'o',\n",
       " 'tenho',\n",
       " 'vindo',\n",
       " 'é'}"
      ]
     },
     "execution_count": 28,
     "metadata": {},
     "output_type": "execute_result"
    }
   ],
   "source": [
    "set(meu_texto.split()) # é possível ter conjuntos de outros tipos de valores além de numéricos"
   ]
  },
  {
   "cell_type": "markdown",
   "metadata": {},
   "source": [
    "# Dicionário (Mapa, etc)"
   ]
  },
  {
   "cell_type": "code",
   "execution_count": 29,
   "metadata": {},
   "outputs": [],
   "source": [
    "aparicoes = {\n",
    "    \"Guilherme\": 1,\n",
    "    \"cachorro\": 2,\n",
    "    \"nome\": 2,\n",
    "    \"vindo\": 1\n",
    "}"
   ]
  },
  {
   "cell_type": "code",
   "execution_count": 30,
   "metadata": {},
   "outputs": [
    {
     "data": {
      "text/plain": [
       "dict"
      ]
     },
     "execution_count": 30,
     "metadata": {},
     "output_type": "execute_result"
    }
   ],
   "source": [
    "type(aparicoes)"
   ]
  },
  {
   "cell_type": "code",
   "execution_count": 31,
   "metadata": {},
   "outputs": [
    {
     "data": {
      "text/plain": [
       "1"
      ]
     },
     "execution_count": 31,
     "metadata": {},
     "output_type": "execute_result"
    }
   ],
   "source": [
    "aparicoes[\"Guilherme\"]"
   ]
  },
  {
   "cell_type": "code",
   "execution_count": 32,
   "metadata": {},
   "outputs": [
    {
     "data": {
      "text/plain": [
       "2"
      ]
     },
     "execution_count": 32,
     "metadata": {},
     "output_type": "execute_result"
    }
   ],
   "source": [
    "aparicoes[\"cachorro\"]"
   ]
  },
  {
   "cell_type": "code",
   "execution_count": 33,
   "metadata": {},
   "outputs": [],
   "source": [
    "# aparicoes[\"xpto\"]"
   ]
  },
  {
   "cell_type": "code",
   "execution_count": 34,
   "metadata": {},
   "outputs": [
    {
     "data": {
      "text/plain": [
       "0"
      ]
     },
     "execution_count": 34,
     "metadata": {},
     "output_type": "execute_result"
    }
   ],
   "source": [
    "aparicoes.get(\"xpto\", 0) # busca a chave xpto e caso não encontre retorna 0"
   ]
  },
  {
   "cell_type": "code",
   "execution_count": 35,
   "metadata": {},
   "outputs": [
    {
     "data": {
      "text/plain": [
       "2"
      ]
     },
     "execution_count": 35,
     "metadata": {},
     "output_type": "execute_result"
    }
   ],
   "source": [
    "aparicoes.get(\"cachorro\", 0)"
   ]
  },
  {
   "cell_type": "code",
   "execution_count": 36,
   "metadata": {},
   "outputs": [
    {
     "data": {
      "text/plain": [
       "{'Guilherme': 2, 'cachorro': 2}"
      ]
     },
     "execution_count": 36,
     "metadata": {},
     "output_type": "execute_result"
    }
   ],
   "source": [
    "aparicoes = dict(Guilherme = 2, cachorro = 2) # instanciando o dict\n",
    "aparicoes"
   ]
  },
  {
   "cell_type": "code",
   "execution_count": 37,
   "metadata": {},
   "outputs": [],
   "source": [
    "aparicoes[\"Carlos\"] = 1"
   ]
  },
  {
   "cell_type": "code",
   "execution_count": 38,
   "metadata": {},
   "outputs": [
    {
     "data": {
      "text/plain": [
       "{'Guilherme': 2, 'cachorro': 2, 'Carlos': 1}"
      ]
     },
     "execution_count": 38,
     "metadata": {},
     "output_type": "execute_result"
    }
   ],
   "source": [
    "aparicoes"
   ]
  },
  {
   "cell_type": "code",
   "execution_count": 39,
   "metadata": {},
   "outputs": [],
   "source": [
    "aparicoes[\"Carlos\"] = 2"
   ]
  },
  {
   "cell_type": "code",
   "execution_count": 40,
   "metadata": {},
   "outputs": [
    {
     "data": {
      "text/plain": [
       "{'Guilherme': 2, 'cachorro': 2, 'Carlos': 2}"
      ]
     },
     "execution_count": 40,
     "metadata": {},
     "output_type": "execute_result"
    }
   ],
   "source": [
    "aparicoes"
   ]
  },
  {
   "cell_type": "code",
   "execution_count": 41,
   "metadata": {},
   "outputs": [],
   "source": [
    "del aparicoes[\"Carlos\"]"
   ]
  },
  {
   "cell_type": "code",
   "execution_count": 42,
   "metadata": {},
   "outputs": [
    {
     "data": {
      "text/plain": [
       "{'Guilherme': 2, 'cachorro': 2}"
      ]
     },
     "execution_count": 42,
     "metadata": {},
     "output_type": "execute_result"
    }
   ],
   "source": [
    "aparicoes"
   ]
  },
  {
   "cell_type": "code",
   "execution_count": 43,
   "metadata": {},
   "outputs": [
    {
     "data": {
      "text/plain": [
       "True"
      ]
     },
     "execution_count": 43,
     "metadata": {},
     "output_type": "execute_result"
    }
   ],
   "source": [
    "\"cachorro\" in aparicoes # procura nas chaves"
   ]
  },
  {
   "cell_type": "code",
   "execution_count": 44,
   "metadata": {},
   "outputs": [
    {
     "data": {
      "text/plain": [
       "False"
      ]
     },
     "execution_count": 44,
     "metadata": {},
     "output_type": "execute_result"
    }
   ],
   "source": [
    "\"Carlos\" in aparicoes"
   ]
  },
  {
   "cell_type": "code",
   "execution_count": 45,
   "metadata": {},
   "outputs": [
    {
     "name": "stdout",
     "output_type": "stream",
     "text": [
      "Guilherme\n",
      "cachorro\n"
     ]
    }
   ],
   "source": [
    "for elemento in aparicoes: # itera sobre as chaves\n",
    "    print(elemento)"
   ]
  },
  {
   "cell_type": "code",
   "execution_count": 46,
   "metadata": {},
   "outputs": [
    {
     "name": "stdout",
     "output_type": "stream",
     "text": [
      "Guilherme\n",
      "cachorro\n"
     ]
    }
   ],
   "source": [
    "for elemento in aparicoes.keys(): # itera sobre as chaves\n",
    "    print(elemento)"
   ]
  },
  {
   "cell_type": "code",
   "execution_count": 47,
   "metadata": {},
   "outputs": [
    {
     "name": "stdout",
     "output_type": "stream",
     "text": [
      "2\n",
      "2\n"
     ]
    }
   ],
   "source": [
    "for elemento in aparicoes.values(): # itera sobre os valores\n",
    "    print(elemento)"
   ]
  },
  {
   "cell_type": "code",
   "execution_count": 48,
   "metadata": {},
   "outputs": [
    {
     "name": "stdout",
     "output_type": "stream",
     "text": [
      "Guilherme 2\n",
      "cachorro 2\n"
     ]
    }
   ],
   "source": [
    "for elemento in aparicoes.keys():\n",
    "    valor = aparicoes[elemento]\n",
    "    print(elemento, valor)"
   ]
  },
  {
   "cell_type": "code",
   "execution_count": 49,
   "metadata": {},
   "outputs": [
    {
     "name": "stdout",
     "output_type": "stream",
     "text": [
      "('Guilherme', 2)\n",
      "('cachorro', 2)\n"
     ]
    }
   ],
   "source": [
    "for elemento in aparicoes.items(): # itera sobre os itens - chave valor - retorna uma tupla\n",
    "    print(elemento)"
   ]
  },
  {
   "cell_type": "code",
   "execution_count": 50,
   "metadata": {},
   "outputs": [
    {
     "name": "stdout",
     "output_type": "stream",
     "text": [
      "Guilherme = 2\n",
      "cachorro = 2\n"
     ]
    }
   ],
   "source": [
    "for chave, valor in  aparicoes.items(): # desempacotando a tupla\n",
    "    print(chave, \"=\", valor)"
   ]
  },
  {
   "cell_type": "code",
   "execution_count": 51,
   "metadata": {},
   "outputs": [
    {
     "data": {
      "text/plain": [
       "['palavra Guilherme', 'palavra cachorro']"
      ]
     },
     "execution_count": 51,
     "metadata": {},
     "output_type": "execute_result"
    }
   ],
   "source": [
    "[f\"palavra {chave}\" for chave in aparicoes.keys()]"
   ]
  },
  {
   "cell_type": "code",
   "execution_count": 52,
   "metadata": {},
   "outputs": [
    {
     "data": {
      "text/plain": [
       "{'Guilherme': 2,\n",
       " 'cachorro': 4,\n",
       " 'bem': 1,\n",
       " 'vindo': 1,\n",
       " 'meu': 2,\n",
       " 'nome': 1,\n",
       " 'é': 1,\n",
       " 'guilherme': 1,\n",
       " 'eu': 1,\n",
       " 'gosto': 2,\n",
       " 'muito': 2,\n",
       " 'de': 2,\n",
       " 'nomes': 1,\n",
       " 'e': 2,\n",
       " 'tenho': 1,\n",
       " 'o': 1}"
      ]
     },
     "execution_count": 52,
     "metadata": {},
     "output_type": "execute_result"
    }
   ],
   "source": [
    "meu_texto = \"Bem vindo meu nome é Guilherme eu gosto muito de nomes e tenho o meu cachorro e gosto muito de cachorro\"\n",
    "meu_texto = meu_texto.lower()\n",
    "for palavra in meu_texto.split():\n",
    "    ate_agora = aparicoes.get(palavra, 0)\n",
    "    aparicoes[palavra] = ate_agora + 1\n",
    "\n",
    "aparicoes"
   ]
  },
  {
   "cell_type": "code",
   "execution_count": 53,
   "metadata": {},
   "outputs": [
    {
     "data": {
      "text/plain": [
       "defaultdict(int,\n",
       "            {'bem': 1,\n",
       "             'vindo': 1,\n",
       "             'meu': 2,\n",
       "             'nome': 1,\n",
       "             'é': 1,\n",
       "             'guilherme': 1,\n",
       "             'eu': 1,\n",
       "             'gosto': 2,\n",
       "             'muito': 2,\n",
       "             'de': 2,\n",
       "             'nomes': 1,\n",
       "             'e': 2,\n",
       "             'tenho': 1,\n",
       "             'o': 1,\n",
       "             'cachorro': 2})"
      ]
     },
     "execution_count": 53,
     "metadata": {},
     "output_type": "execute_result"
    }
   ],
   "source": [
    "from collections import defaultdict\n",
    "\n",
    "aparicoes = defaultdict(int) # se o defaultdic falhar em achar a chave ele vai setar um valor default usando a função callback para isso\n",
    "\n",
    "for palavra in meu_texto.split():\n",
    "    ate_agora = aparicoes[palavra]\n",
    "    aparicoes[palavra] = ate_agora + 1\n",
    "\n",
    "aparicoes"
   ]
  },
  {
   "cell_type": "code",
   "execution_count": 54,
   "metadata": {},
   "outputs": [
    {
     "data": {
      "text/plain": [
       "defaultdict(int,\n",
       "            {'bem': 1,\n",
       "             'vindo': 1,\n",
       "             'meu': 2,\n",
       "             'nome': 1,\n",
       "             'é': 1,\n",
       "             'guilherme': 1,\n",
       "             'eu': 1,\n",
       "             'gosto': 2,\n",
       "             'muito': 2,\n",
       "             'de': 2,\n",
       "             'nomes': 1,\n",
       "             'e': 2,\n",
       "             'tenho': 1,\n",
       "             'o': 1,\n",
       "             'cachorro': 2})"
      ]
     },
     "execution_count": 54,
     "metadata": {},
     "output_type": "execute_result"
    }
   ],
   "source": [
    "aparicoes = defaultdict(int)\n",
    "\n",
    "for palavra in meu_texto.split():\n",
    "    aparicoes[palavra] += 1\n",
    "\n",
    "aparicoes"
   ]
  },
  {
   "cell_type": "code",
   "execution_count": 55,
   "metadata": {},
   "outputs": [],
   "source": [
    "class Conta:\n",
    "    def __init__(self):\n",
    "        print(\"Imprimindo uma conta\")"
   ]
  },
  {
   "cell_type": "code",
   "execution_count": 56,
   "metadata": {},
   "outputs": [
    {
     "name": "stdout",
     "output_type": "stream",
     "text": [
      "Imprimindo uma conta\n"
     ]
    },
    {
     "data": {
      "text/plain": [
       "<__main__.Conta at 0x28a316ab280>"
      ]
     },
     "execution_count": 56,
     "metadata": {},
     "output_type": "execute_result"
    }
   ],
   "source": [
    "contas = defaultdict(Conta)\n",
    "contas[15]"
   ]
  },
  {
   "cell_type": "code",
   "execution_count": 57,
   "metadata": {},
   "outputs": [
    {
     "data": {
      "text/plain": [
       "<__main__.Conta at 0x28a316ab280>"
      ]
     },
     "execution_count": 57,
     "metadata": {},
     "output_type": "execute_result"
    }
   ],
   "source": [
    "contas[15]"
   ]
  },
  {
   "cell_type": "code",
   "execution_count": 58,
   "metadata": {},
   "outputs": [
    {
     "name": "stdout",
     "output_type": "stream",
     "text": [
      "Imprimindo uma conta\n"
     ]
    },
    {
     "data": {
      "text/plain": [
       "<__main__.Conta at 0x28a316ab490>"
      ]
     },
     "execution_count": 58,
     "metadata": {},
     "output_type": "execute_result"
    }
   ],
   "source": [
    "contas[17]"
   ]
  },
  {
   "cell_type": "code",
   "execution_count": 59,
   "metadata": {},
   "outputs": [
    {
     "data": {
      "text/plain": [
       "<__main__.Conta at 0x28a316ab490>"
      ]
     },
     "execution_count": 59,
     "metadata": {},
     "output_type": "execute_result"
    }
   ],
   "source": [
    "contas[17]"
   ]
  },
  {
   "cell_type": "code",
   "execution_count": 60,
   "metadata": {},
   "outputs": [
    {
     "data": {
      "text/plain": [
       "Counter({'bem': 1,\n",
       "         'vindo': 1,\n",
       "         'meu': 2,\n",
       "         'nome': 1,\n",
       "         'é': 1,\n",
       "         'guilherme': 1,\n",
       "         'eu': 1,\n",
       "         'gosto': 2,\n",
       "         'muito': 2,\n",
       "         'de': 2,\n",
       "         'nomes': 1,\n",
       "         'e': 2,\n",
       "         'tenho': 1,\n",
       "         'o': 1,\n",
       "         'cachorro': 2})"
      ]
     },
     "execution_count": 60,
     "metadata": {},
     "output_type": "execute_result"
    }
   ],
   "source": [
    "from collections import Counter\n",
    "\n",
    "aparicoes = Counter(meu_texto.split())\n",
    "aparicoes"
   ]
  },
  {
   "cell_type": "markdown",
   "metadata": {},
   "source": [
    "# Textando o uso de diversas coleções"
   ]
  },
  {
   "cell_type": "code",
   "execution_count": 61,
   "metadata": {},
   "outputs": [],
   "source": [
    "texto1 = \"\"\"\n",
    "No mundo da programação, estamos familiarizados com editores de textos ou IDEs que facilitam o trabalho da escrita de códigos. São inúmeros os softwares que podemos escolher que vão atender às necessidades.\n",
    "\n",
    "É de se esperar que, ao trabalhar com ciência de dados, utilizemos alguma dessas IDEs, já que a programação está fortemente ligada à área de ciência de dados. Mas a forma tradicional de escrever o código, em um único bloco com comentários ao longo do caminho, traz algumas desvantagens se comparado aos notebooks utilizados em projetos de ciência de dados.\n",
    "\n",
    "O que são Notebooks?\n",
    "Um Notebook se parece com um caderno, onde será escrito uma história. Essa história é narrada em partes e segue um fluxo lógico, desde a introdução até a conclusão. Como os projetos de ciência de dados envolvem resolver um problema de negócio, precisamos\n",
    "\n",
    "escrever uma história com os objetivos, possíveis soluções do problema e a conclusão que chegamos através da exploração dos dados.\n",
    "\n",
    "Temos a opção de criar blocos de texto e blocos de código no Notebook. Cada bloco é conhecido como uma célula do Notebook.\n",
    "\n",
    "Através dos blocos de texto, podemos explicar o contexto, o objetivo do nosso projeto, o conhecimento que está sendo extraído dos dados e as conclusões, ou seja, as possíveis soluções para o problema que estamos tentando resolver, ou até mesmo se ainda não conseguimos chegar a nenhuma solução.\n",
    "\n",
    "Também é possível explorar o conjunto de dados, fazer o tratamento e limpeza, criar gráficos representativos, entre outras coisas. As saídas ou resultados de cada um desses blocos de código podem ser verificados logo abaixo de cada um dos códigos. Além disso, não é necessário rodar todo o seu código anterior todas as vezes, uma vez que o processo fica armazenado na memória e as células vão funcionar de uma forma um pouco independente.\n",
    "\n",
    "Jupyter Notebook\n",
    "O Jupyter Notebook é um ambiente que oferece essa abordagem de Notebooks, com um visual simples e muito fácil de utilizar.\n",
    "\n",
    "Vamos começar pela sua instalação.\n",
    "\n",
    "Uma possibilidade seria instalar o Anaconda, que é uma plataforma que disponibiliza. além do Jupyter Notebook, alguns outros ambientes como JupyterLab e Spyder.Também dá a possibilidade de criar ambientes virtuais e já instala a linguagem Python e as principais bibliotecas que serão utilizadas para desenvolver projetos em ciência de dados, como a biblioteca numpy e pandas.\n",
    "\n",
    "Para realizar a instalação dessa forma, basta ir até o site oficial e escolher o instalador de acordo com o sistema operacional.\n",
    "Assim que a instalação for concluída, ao abrirmos o Anaconda Navigator, o Jupyter Notebook estará pronto para uso.\n",
    "\"\"\""
   ]
  },
  {
   "cell_type": "code",
   "execution_count": 62,
   "metadata": {},
   "outputs": [],
   "source": [
    "texto2 = \"\"\"\n",
    "Para muitas pessoas, mexer com dinheiro é um desafio praticamente impossível de ser completado. Até existe a vontade de começar a investir, mas parte da população brasileira tem medo. Isso ocorre por conta da falta da educação financeira, fazendo com que tenham dificuldade para entender conceitos de macro e microeconomia, por exemplo.\n",
    "\n",
    "Atualmente, o nível de educação financeira na população brasileira encontra-se extremamente baixo, muito por conta de um sistema educacional um tanto quanto ineficiente e ultrapassado. De qualquer forma, saber pelo menos o mínimo desse conhecimento é uma responsabilidade cada vez mais necessária para as pessoas.\n",
    "\n",
    "Educação financeira é o fornecimento de um conhecimento extremamente importante no que diz respeito às finanças pessoais, a acumulação e multiplicação de patrimônio ao longo do tempo.\n",
    "\n",
    "Em outras palavras, educação financeira é o processo pelo qual pessoas melhoram sua compreensão em relação ao dinheiro. Esse conceito é utilizado pela ENEF, Estratégia Nacional de Educação Financeira, um programa do governo federal criado com o objetivo de fazer com que os brasileiros tomem decisões financeiras de forma consciente.\n",
    "\n",
    "Uma pessoa que é educada financeiramente sabe mais do que economizar, ganhar dinheiro e acumular recursos. O grande objetivo desse tipo de ensinamento é capacitar indivíduos para que eles tenham recursos financeiros suficientes para uma melhor qualidade de vida tanto no presente quanto no futuro.\n",
    "\n",
    "Para chegar nesse ponto, é fundamental que cada pessoa tenha a consciência de cada oportunidade e risco do uso do dinheiro.\n",
    "\n",
    "Por exemplo, assim que você recebe o seu salário, qual a sua primeira ação?\n",
    "\n",
    "Não existe resposta certa. Ela pode variar a cada mês ou a cada etapa da sua vida. O que importa de fato é que, independentemente da decisão tomada, ela tenha sido consciente. Ou seja, você deve saber o que e como cada opção impacta na sua vida.\n",
    "\n",
    "Isso é educação financeira. Infelizmente, esse tema é pouco abordado na nossa sociedade.\n",
    "\n",
    "Saber sobre esse tema é uma necessidade urgente para todos os brasileiros e, certamente, só conseguiremos um futuro melhor transferirmos esse conhecimento também para as próximas gerações que ainda estão por vir. Alguns pesquisadores já defendem, inclusive que o assunto educação financeira esteja presente nas escolas.\n",
    "\n",
    "Como já destacado anteriormente, atualmente esse tipo de conhecimento representa um papel de muita relevância na vida das pessoas. Saber sobre finanças, pelo menos o mínimo, é essencial.\n",
    "\n",
    "Assim, a importância da educação financeira se faz na capacidade que esse conhecimento apresenta de possibilitar a criação de um patrimônio no mercado financeiro que gera renda através de dividendos e demais proventos concedidos pelos ativos.\n",
    "\n",
    "Isso possibilita, para o investidor, a tranquilidade de não depender do governo e nem de ninguém para poder usufruir do seu tempo da maneira que achar mais conveniente no futuro.\n",
    "\n",
    "Ou seja, a educação financeira é fundamental para quem deseja ser bem-sucedido e conquistará a tão sonhada independência financeira.\n",
    "\n",
    "Esse não é um processo rápido. Quem pretende alcançar grandes objetivos deve ter paciência e muita disciplina para poupar dinheiro e investir corretamente. Com o passar do tempo e com aplicações mensais, as metas financeiras definidas hoje podem se tornar realidade no futuro.\n",
    "\n",
    "\"\"\""
   ]
  },
  {
   "cell_type": "code",
   "execution_count": 76,
   "metadata": {},
   "outputs": [],
   "source": [
    "def analisa_frequencia_de_letras(texto):\n",
    "    aparicoes = Counter(texto.lower())\n",
    "    total_de_caracteres = sum(aparicoes.values())\n",
    "\n",
    "    proporcoes = [(letra, frequencia / total_de_caracteres) for letra, frequencia in aparicoes.items()]\n",
    "    proporcoes = Counter(dict(proporcoes))\n",
    "    mais_comuns = proporcoes.most_common(10)\n",
    "    for caractere, proporcao in mais_comuns:\n",
    "        print(f\"{caractere} => {proporcao * 100:.2f}%\")"
   ]
  },
  {
   "cell_type": "code",
   "execution_count": 77,
   "metadata": {},
   "outputs": [
    {
     "name": "stdout",
     "output_type": "stream",
     "text": [
      "  => 15.72%\n",
      "o => 10.36%\n",
      "a => 8.69%\n",
      "e => 8.69%\n",
      "s => 7.06%\n",
      "i => 4.63%\n",
      "r => 4.56%\n",
      "d => 4.52%\n",
      "t => 3.91%\n",
      "c => 3.64%\n"
     ]
    }
   ],
   "source": [
    "analisa_frequencia_de_letras(texto1)"
   ]
  },
  {
   "cell_type": "code",
   "execution_count": 78,
   "metadata": {},
   "outputs": [
    {
     "name": "stdout",
     "output_type": "stream",
     "text": [
      "  => 14.92%\n",
      "e => 11.08%\n",
      "a => 9.86%\n",
      "o => 7.51%\n",
      "s => 5.96%\n",
      "i => 5.81%\n",
      "n => 5.60%\n",
      "r => 5.00%\n",
      "d => 4.32%\n",
      "t => 3.78%\n"
     ]
    }
   ],
   "source": [
    "analisa_frequencia_de_letras(texto2)"
   ]
  },
  {
   "cell_type": "code",
   "execution_count": null,
   "metadata": {},
   "outputs": [],
   "source": []
  }
 ],
 "metadata": {
  "kernelspec": {
   "display_name": "Python 3.10.4 64-bit",
   "language": "python",
   "name": "python3"
  },
  "language_info": {
   "codemirror_mode": {
    "name": "ipython",
    "version": 3
   },
   "file_extension": ".py",
   "mimetype": "text/x-python",
   "name": "python",
   "nbconvert_exporter": "python",
   "pygments_lexer": "ipython3",
   "version": "3.10.4"
  },
  "orig_nbformat": 4,
  "vscode": {
   "interpreter": {
    "hash": "c40679267e85ce77c7d830909aad1ced125f770d77bd27f66d01e8963a2470d4"
   }
  }
 },
 "nbformat": 4,
 "nbformat_minor": 2
}
